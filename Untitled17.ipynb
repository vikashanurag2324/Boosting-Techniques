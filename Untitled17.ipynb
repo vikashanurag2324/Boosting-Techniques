{
  "nbformat": 4,
  "nbformat_minor": 0,
  "metadata": {
    "colab": {
      "provenance": []
    },
    "kernelspec": {
      "name": "python3",
      "display_name": "Python 3"
    },
    "language_info": {
      "name": "python"
    }
  },
  "cells": [
    {
      "cell_type": "markdown",
      "source": [
        "1. Explain the difference between AWS Regions, Availability Zones, and Edge Locations. Why is this important for data analysis and latency-sensitive applications\".\n",
        "\n",
        "Ans:-AWS Regions, Availability Zones (AZs), and Edge Locations are fundamental concepts in AWS's global infrastructure. They impact performance, availability, and scalability for applications, especially those that require low-latency and high availability. Let’s dive into each term and understand why they’re important for data analysis and latency-sensitive applications.\n",
        "\n",
        "1. AWS Regions\n",
        "Definition: An AWS Region is a geographical area that consists of multiple isolated data centers known as Availability Zones. Each region is designed to be isolated from others to ensure redundancy and fault tolerance.\n",
        "\n",
        "Importance:\n",
        "\n",
        "Geographical Proximity: The region you choose determines the proximity of your data to your end users or data sources. For data analysis, selecting the right region can minimize the time it takes to send and receive data, which directly affects the performance and speed of your application.\n",
        "\n",
        "Compliance: Some countries have laws requiring that data remain within their borders. AWS allows you to choose a region that complies with these regulations (data sovereignty).\n",
        "\n",
        "Disaster Recovery: By choosing multiple regions, you can design a disaster recovery plan to ensure business continuity in case of a region failure.\n",
        "\n",
        "2. Availability Zones (AZs)\n",
        "Definition: An Availability Zone (AZ) is a discrete data center within a region. Each region contains multiple AZs, typically at least three, but they can be more in larger regions. AZs are physically separated but connected by low-latency, high-bandwidth networks.\n",
        "\n",
        "Importance:\n",
        "\n",
        "High Availability: By distributing applications across multiple AZs within a region, you ensure that even if one AZ fails (e.g., due to power outage or hardware failure), your application can continue to run in other AZs without downtime.\n",
        "\n",
        "Fault Tolerance: For critical data analysis or latency-sensitive applications, placing services in multiple AZs ensures that services and data are replicated and highly available, reducing the risk of outages.\n",
        "\n",
        "Data Redundancy: AZs are crucial for data backup and replication strategies. In case of failure, the application can recover from the replica stored in another AZ.\n",
        "\n",
        "3. Edge Locations\n",
        "Definition: Edge Locations are AWS’s global network of data centers specifically designed for caching and delivering content closer to end users. These are used by AWS services like Amazon CloudFront (CDN), AWS Lambda@Edge, and Amazon Route 53. Edge Locations are typically located in cities around the world.\n",
        "\n",
        "Importance:\n",
        "\n",
        "Reduced Latency: Edge Locations are key for applications that require low-latency access to data. For example, static content like images, videos, and APIs can be cached at Edge Locations, reducing the time it takes to deliver content to users around the globe.\n",
        "\n",
        "Global Reach: For applications with a global user base, Edge Locations ensure that users from different parts of the world experience minimal delay in retrieving content or interacting with your application.\n",
        "\n",
        "Optimized Content Delivery: For real-time data analysis or live-streaming applications, Edge Locations help ensure that users receive the most up-to-date content with minimal latency.\n",
        "\n",
        "Key Differences:\n",
        "AWS Regions are large, geographically isolated areas where AWS’s infrastructure is located. Each region is independent and can be chosen based on compliance or performance needs.\n",
        "\n",
        "Availability Zones are isolated data centers within a region that provide redundancy and high availability for applications.\n",
        "\n",
        "Edge Locations are smaller, globally distributed points designed to cache content closer to end users and optimize content delivery performance.\n",
        "\n",
        "Why Are These Important for Data Analysis and Latency-Sensitive Applications?\n",
        "For Data Analysis:\n",
        "\n",
        "Regions impact where data is stored and processed. Choosing the right region ensures faster data processing and storage access, especially when dealing with large-scale datasets. Proximity to the data source can significantly reduce latency and improve performance.\n",
        "\n",
        "Availability Zones ensure that data is fault-tolerant and available in case of infrastructure failure. For data analysis applications, this ensures that your data pipelines and processing tasks don’t face downtime.\n",
        "\n",
        "For Latency-Sensitive Applications:\n",
        "\n",
        "Edge Locations are critical for reducing latency. Applications that require real-time data processing or fast content delivery (such as live-streaming or gaming applications) benefit from having data cached at Edge Locations. This reduces the time it takes to send data over long distances, improving user experience.\n",
        "\n",
        "Regions and AZs help with high availability and fault tolerance, while Edge Locations help minimize data delivery time, ensuring your application performs optimally no matter where users are located.\n",
        "\n",
        "2. Using the AWS CLI, list all available AWS regions. Share the command used and the output.\n",
        "\n",
        "Ans:-To list all available AWS regions using the AWS CLI, you can use the following command:\n",
        "aws ec2 describe-regions --all-regions --query \"Regions[*].RegionName\" --output table\n",
        "\n",
        "3. Create a new IAM user with least privilege access to Amazon S3. Share your attached policies (JSON or\n",
        "screenshot).\n",
        "\n",
        "Ans:-To create a new IAM user with least privilege access to Amazon S3 using the AWS CLI and attach the necessary policy, follow these steps:\n",
        "\n",
        "Step 1: Create the IAM User"
      ],
      "metadata": {
        "id": "TYpN4YbOWH4R"
      }
    },
    {
      "cell_type": "code",
      "source": [
        "aws iam create-user --user-name S3ReadOnlyUser\n"
      ],
      "metadata": {
        "id": "H_PRCuAmTabQ"
      },
      "execution_count": null,
      "outputs": []
    },
    {
      "cell_type": "markdown",
      "source": [
        " Step 2: Create a Least Privilege Policy for S3 (e.g., read-only access to a specific bucket)"
      ],
      "metadata": {
        "id": "tas-jMtsTb_L"
      }
    },
    {
      "cell_type": "code",
      "source": [
        "{\n",
        "  \"Version\": \"2012-10-17\",\n",
        "  \"Statement\": [\n",
        "    {\n",
        "      \"Sid\": \"S3ReadOnlyAccess\",\n",
        "      \"Effect\": \"Allow\",\n",
        "      \"Action\": [\n",
        "        \"s3:GetObject\",\n",
        "        \"s3:ListBucket\"\n",
        "      ],\n",
        "      \"Resource\": [\n",
        "        \"arn:aws:s3:::your-bucket-name\",\n",
        "        \"arn:aws:s3:::your-bucket-name/*\"\n",
        "      ]\n",
        "    }\n",
        "  ]\n",
        "}\n"
      ],
      "metadata": {
        "id": "kCqGBir7TeEK"
      },
      "execution_count": null,
      "outputs": []
    },
    {
      "cell_type": "markdown",
      "source": [
        "🔹 Step 3: Create the IAM Policy"
      ],
      "metadata": {
        "id": "IynycmVQTg4X"
      }
    },
    {
      "cell_type": "markdown",
      "source": [
        "aws iam create-policy \\\n",
        "  --policy-name S3ReadOnlyPolicy \\\n",
        "  --policy-document file://s3-read-only-policy.json\n"
      ],
      "metadata": {
        "id": "rbfrnEUPTk7v"
      }
    },
    {
      "cell_type": "markdown",
      "source": [
        " Step 4: Attach the Policy to the IAM User"
      ],
      "metadata": {
        "id": "cgyNVEU_TmNf"
      }
    },
    {
      "cell_type": "code",
      "source": [
        "aws iam attach-user-policy \\\n",
        "  --user-name S3ReadOnlyUser \\\n",
        "  --policy-arn arn:aws:iam::123456789012:policy/S3ReadOnlyPolicy\n"
      ],
      "metadata": {
        "id": "UlZWhutATofk"
      },
      "execution_count": null,
      "outputs": []
    },
    {
      "cell_type": "markdown",
      "source": [
        "4. Compare different Amazon S3 storage (Standard, Intelligent-Tiering, Glacier). When should each be used in data analytics workflows\" .\n",
        "\n",
        "Ans:-Comparison Table\n",
        "Storage Class | Use Case in Analytics | Retrieval Time | Durability & Availability | Cost Efficiency | Automation\n",
        "S3 Standard | Active analytics, frequent access | Milliseconds | 99.999999999% (11 9s) durability, 99.99% availability | High (due to high access frequency) | None\n",
        "S3 Intelligent-Tiering | Data with unpredictable access patterns | Milliseconds (frequent), minutes (archive tiers) | Same durability, 99.9% availability | Optimized (auto-moves data to cheaper tiers) | Automatic tiering\n",
        "S3 Glacier | Long-term archives, rare analytics | Minutes to hours | Same durability, lower availability | Lowest cost (ideal for archival) | Manual\n",
        "When to Use Each in Data Analytics Workflows\n",
        "✅ S3 Standard\n",
        "Use when:\n",
        "\n",
        "You're running active analytics workloads.\n",
        "\n",
        "Data is accessed frequently (e.g., training models, querying logs).\n",
        "\n",
        "Example:\n",
        "\n",
        "Real-time dashboards, ongoing machine learning model training.\n",
        "\n",
        "✅ S3 Intelligent-Tiering\n",
        "Use when:\n",
        "\n",
        "You don’t know how often data will be accessed.\n",
        "\n",
        "You want to save money without managing storage tiers manually.\n",
        "\n",
        "Example:\n",
        "\n",
        "Raw logs, event data, or historical datasets that are accessed inconsistently.\n",
        "\n",
        "✅ S3 Glacier\n",
        "Use when:\n",
        "\n",
        "You need to archive data that is infrequently used but still needs to be retained for compliance or historical analysis.\n",
        "\n",
        "Example:\n",
        "\n",
        "Old model outputs, long-term backups of ETL outputs, audit logs.\n",
        "\n",
        "5. Create an S3 bucket and upload a sample dataset (CSV or JSON). Enable versioning and show at least two\n",
        "versions of one file&.\n",
        "\n",
        "Ans:-Step-by-Step Commands\n",
        "✅ 1. Create an S3 Bucket\n",
        "Replace your-unique-bucket-name with a globally unique name:"
      ],
      "metadata": {
        "id": "n4g-DfSiTrLq"
      }
    },
    {
      "cell_type": "code",
      "source": [
        "aws s3api create-bucket \\\n",
        "  --bucket your-unique-bucket-name \\\n",
        "  --region us-east-1\n"
      ],
      "metadata": {
        "id": "gsL7G8NdUZAm"
      },
      "execution_count": null,
      "outputs": []
    },
    {
      "cell_type": "markdown",
      "source": [
        "✅ 2. Enable Versioning on the Bucket"
      ],
      "metadata": {
        "id": "FGhc6pDjUa7f"
      }
    },
    {
      "cell_type": "code",
      "source": [
        "aws s3api put-bucket-versioning \\\n",
        "  --bucket your-unique-bucket-name \\\n",
        "  --versioning-configuration Status=Enabled\n"
      ],
      "metadata": {
        "id": "E5viPeXjUdRX"
      },
      "execution_count": null,
      "outputs": []
    },
    {
      "cell_type": "markdown",
      "source": [
        "✅ 3. Create and Upload a Sample CSV File (Version 1)"
      ],
      "metadata": {
        "id": "DOe_AiWUUfBX"
      }
    },
    {
      "cell_type": "code",
      "source": [
        "echo \"id,name,value\" > dataset.csv\n",
        "echo \"1,Alice,100\" >> dataset.csv\n",
        "\n",
        "aws s3 cp dataset.csv s3://your-unique-bucket-name/dataset.csv\n"
      ],
      "metadata": {
        "id": "o54F9CVEUjEe"
      },
      "execution_count": null,
      "outputs": []
    },
    {
      "cell_type": "markdown",
      "source": [
        "✅ 4. Modify the File and Upload Again (Version 2)"
      ],
      "metadata": {
        "id": "JeRfnQcHUk52"
      }
    },
    {
      "cell_type": "code",
      "source": [
        "echo \"2,Bob,200\" >> dataset.csv\n",
        "\n",
        "aws s3 cp dataset.csv s3://your-unique-bucket-name/dataset.csv\n"
      ],
      "metadata": {
        "id": "vzDS3WvkUnH2"
      },
      "execution_count": null,
      "outputs": []
    },
    {
      "cell_type": "markdown",
      "source": [
        "✅ 5. List Versions of the File"
      ],
      "metadata": {
        "id": "qOzSFLZJUpX-"
      }
    },
    {
      "cell_type": "code",
      "source": [
        "aws s3api list-object-versions \\\n",
        "  --bucket your-unique-bucket-name \\\n",
        "  --prefix dataset.csv\n"
      ],
      "metadata": {
        "id": "6X656KU3UsOT"
      },
      "execution_count": null,
      "outputs": []
    },
    {
      "cell_type": "markdown",
      "source": [
        "6. E Write and apply a lifecycle policy to move files to Glacier after 30 days and delete them after 90. Share the policy JSON or Screenshot.\n",
        "\n",
        "Ans:-Here’s the JSON lifecycle policy to:\n",
        "\n",
        "✅ Move files to Glacier after 30 days\n",
        "\n",
        "❌ Delete files after 90 days\n",
        "\n",
        "✅ Lifecycle Policy JSON"
      ],
      "metadata": {
        "id": "-FTmCcNiUvI-"
      }
    },
    {
      "cell_type": "code",
      "source": [
        "{\n",
        "  \"Rules\": [\n",
        "    {\n",
        "      \"ID\": \"MoveToGlacierAndDelete\",\n",
        "      \"Status\": \"Enabled\",\n",
        "      \"Filter\": {\n",
        "        \"Prefix\": \"\"\n",
        "      },\n",
        "      \"Transitions\": [\n",
        "        {\n",
        "          \"Days\": 30,\n",
        "          \"StorageClass\": \"GLACIER\"\n",
        "        }\n",
        "      ],\n",
        "      \"Expiration\": {\n",
        "        \"Days\": 90\n",
        "      }\n",
        "    }\n",
        "  ]\n",
        "}\n"
      ],
      "metadata": {
        "id": "v81eMLhaVEAy"
      },
      "execution_count": null,
      "outputs": []
    },
    {
      "cell_type": "markdown",
      "source": [
        "Apply the Lifecycle Policy using AWS CLI\n",
        "Save the above JSON to a file, e.g. lifecycle-policy.json, then run:"
      ],
      "metadata": {
        "id": "WVWlgfeHVEz0"
      }
    },
    {
      "cell_type": "code",
      "source": [
        "aws s3api put-bucket-lifecycle-configuration \\\n",
        "  --bucket your-unique-bucket-name \\\n",
        "  --lifecycle-configuration file://lifecycle-policy.json\n"
      ],
      "metadata": {
        "id": "UnHClfETVHQl"
      },
      "execution_count": null,
      "outputs": []
    },
    {
      "cell_type": "markdown",
      "source": [
        "7. Compare RDS, DynamoDB, and Redshift for use in different stages of a data pipeline. Give one use case for each.\n",
        "![Screenshot (43).png](data:image/png;base64,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)\n",
        "Ans:-"
      ],
      "metadata": {
        "id": "WSnoszM5VJrk"
      }
    },
    {
      "cell_type": "markdown",
      "source": [
        "8. Create a DynamoDB table and insert 3 records manually. Then write a Lambda function that adds records\n",
        "when triggered by S3 uploads.\n",
        "\n",
        "Ans:-✅ Step 1: Create a DynamoDB Table"
      ],
      "metadata": {
        "id": "qgn93-kuWQol"
      }
    },
    {
      "cell_type": "code",
      "source": [
        "aws dynamodb create-table \\\n",
        "  --table-name UserUploads \\\n",
        "  --attribute-definitions AttributeName=FileName,AttributeType=S \\\n",
        "  --key-schema AttributeName=FileName,KeyType=HASH \\\n",
        "  --provisioned-throughput ReadCapacityUnits=5,WriteCapacityUnits=5\n"
      ],
      "metadata": {
        "id": "E5Jxa3NjWvzW"
      },
      "execution_count": null,
      "outputs": []
    },
    {
      "cell_type": "markdown",
      "source": [
        "✅ Step 2: Insert 3 Records Manually"
      ],
      "metadata": {
        "id": "K3sLX5CuW51-"
      }
    },
    {
      "cell_type": "code",
      "source": [
        "aws dynamodb put-item \\\n",
        "  --table-name UserUploads \\\n",
        "  --item '{\"FileName\": {\"S\": \"file1.csv\"}, \"Uploader\": {\"S\": \"Alice\"}, \"Timestamp\": {\"S\": \"2025-04-25T10:00:00Z\"}}'\n",
        "\n",
        "aws dynamodb put-item \\\n",
        "  --table-name UserUploads \\\n",
        "  --item '{\"FileName\": {\"S\": \"file2.csv\"}, \"Uploader\": {\"S\": \"Bob\"}, \"Timestamp\": {\"S\": \"2025-04-25T11:00:00Z\"}}'\n",
        "\n",
        "aws dynamodb put-item \\\n",
        "  --table-name UserUploads \\\n",
        "  --item '{\"FileName\": {\"S\": \"file3.csv\"}, \"Uploader\": {\"S\": \"Carol\"}, \"Timestamp\": {\"S\": \"2025-04-25T12:00:00Z\"}}'\n"
      ],
      "metadata": {
        "id": "f338z2MYW8ii"
      },
      "execution_count": null,
      "outputs": []
    },
    {
      "cell_type": "markdown",
      "source": [
        "Step 3: Lambda Function to Add Record on S3 Upload\n",
        "Python (Node.js version available if needed)"
      ],
      "metadata": {
        "id": "aLvfRfhFW-_-"
      }
    },
    {
      "cell_type": "code",
      "source": [
        "import json\n",
        "import boto3\n",
        "from datetime import datetime\n",
        "\n",
        "dynamodb = boto3.client('dynamodb')\n",
        "\n",
        "def lambda_handler(event, context):\n",
        "    for record in event['Records']:\n",
        "        bucket = record['s3']['bucket']['name']\n",
        "        key = record['s3']['object']['key']\n",
        "        timestamp = datetime.utcnow().isoformat() + \"Z\"\n",
        "\n",
        "        dynamodb.put_item(\n",
        "            TableName='UserUploads',\n",
        "            Item={\n",
        "                'FileName': {'S': key},\n",
        "                'Uploader': {'S': 's3-user'},\n",
        "                'Timestamp': {'S': timestamp}\n",
        "            }\n",
        "        )\n",
        "\n",
        "    return {\n",
        "        'statusCode': 200,\n",
        "        'body': json.dumps('Success')\n",
        "    }\n"
      ],
      "metadata": {
        "id": "uy4bSpnNXCaL"
      },
      "execution_count": null,
      "outputs": []
    },
    {
      "cell_type": "markdown",
      "source": [
        "Step 4: Trigger Lambda on S3 Upload\n",
        "In AWS Console:\n",
        "\n",
        "Go to your Lambda function.\n",
        "\n",
        "Add a trigger from your S3 bucket.\n",
        "\n",
        "Choose event type: PUT (object created).\n",
        "\n",
        "Save.\n",
        "\n",
        "Or use CLI to add permission for S3 to invoke Lambda:"
      ],
      "metadata": {
        "id": "uB-Rk3tcXFc5"
      }
    },
    {
      "cell_type": "code",
      "source": [
        "aws lambda add-permission \\\n",
        "  --function-name yourLambdaFunctionName \\\n",
        "  --principal s3.amazonaws.com \\\n",
        "  --statement-id s3invoke \\\n",
        "  --action \"lambda:InvokeFunction\" \\\n",
        "  --source-arn arn:aws:s3:::your-bucket-name\n"
      ],
      "metadata": {
        "id": "_f8OccO2XIag"
      },
      "execution_count": null,
      "outputs": []
    },
    {
      "cell_type": "markdown",
      "source": [
        "9. E What is serverless computing? Discuss pros and cons of using AWS Lambda for data pipelines.\n",
        "\n",
        "Ans:- What is Serverless Computing?\n",
        "Serverless computing is a cloud model where you write and deploy code without managing the underlying infrastructure (servers, scaling, or provisioning). The cloud provider runs and scales your code on demand, and you’re billed only for execution time.\n",
        "\n",
        "In AWS, Lambda is the key serverless service—it lets you run functions in response to triggers like S3 uploads, DynamoDB updates, or API Gateway calls.\n",
        "\n"
      ],
      "metadata": {
        "id": "KByR3e7PXKwQ"
      }
    },
    {
      "cell_type": "markdown",
      "source": [
        "10. Create a Lambda function triggered by S3 uploads that logs file name, size, and timestamp to Cloudwatch.\n",
        "Share code and a log screenshot.\n",
        "\n",
        "Ans:-✅ Lambda Function Code (Python 3.9+)"
      ],
      "metadata": {
        "id": "cJY7vxxXXdAo"
      }
    },
    {
      "cell_type": "code",
      "source": [
        "import json\n",
        "import logging\n",
        "\n",
        "logger = logging.getLogger()\n",
        "logger.setLevel(logging.INFO)\n",
        "\n",
        "def lambda_handler(event, context):\n",
        "    for record in event['Records']:\n",
        "        bucket = record['s3']['bucket']['name']\n",
        "        file_name = record['s3']['object']['key']\n",
        "        file_size = record['s3']['object']['size']\n",
        "        timestamp = record['eventTime']\n",
        "\n",
        "        logger.info(f\"New file uploaded to S3:\")\n",
        "        logger.info(f\"Bucket: {bucket}\")\n",
        "        logger.info(f\"File Name: {file_name}\")\n",
        "        logger.info(f\"Size (bytes): {file_size}\")\n",
        "        logger.info(f\"Timestamp: {timestamp}\")\n",
        "\n",
        "    return {\n",
        "        'statusCode': 200,\n",
        "        'body': json.dumps('Logged S3 upload details successfully.')\n",
        "    }\n"
      ],
      "metadata": {
        "id": "hvMhSolxXpf3"
      },
      "execution_count": null,
      "outputs": []
    },
    {
      "cell_type": "markdown",
      "source": [
        "11. Use AWS Glue to crawl your S3 dataset, create a Data Catalog table, and run a Glue job to convert CSV data to parquet. Share job code and output location.\n",
        "\n",
        "Ans:-✅ Step 1: Set Up the S3 Bucket\n",
        "Upload your CSV dataset to a bucket path like:"
      ],
      "metadata": {
        "id": "iFnIcw3ZXr5z"
      }
    },
    {
      "cell_type": "code",
      "source": [
        "s3://your-bucket-name/input-data/\n"
      ],
      "metadata": {
        "id": "DbMUrAVMYBd1"
      },
      "execution_count": null,
      "outputs": []
    },
    {
      "cell_type": "markdown",
      "source": [
        "Step 2: Create a Crawler\n",
        "Name: csv-crawler\n",
        "\n",
        "Data Store: S3 → s3://your-bucket-name/input-data/\n",
        "\n",
        "IAM Role: Glue role with access to S3\n",
        "\n",
        "Output: Add to Glue Data Catalog in a specific database (e.g., csv_db)\n",
        "\n",
        "Run the crawler to discover the schema and create a table (e.g., input_table)."
      ],
      "metadata": {
        "id": "gv5H_-XCYDwM"
      }
    },
    {
      "cell_type": "markdown",
      "source": [
        "✅ Step 3: Create a Glue Job (CSV to Parquet)\n",
        "🔧 Job Configuration\n",
        "Name: convert-csv-to-parquet\n",
        "\n",
        "Script Type: Python\n",
        "\n",
        "IAM Role: Same as crawler or one with S3 write permissions\n",
        "\n",
        "Input Table: input_table from database csv_db\n",
        "\n",
        "Output Location: s3://your-bucket-name/output-parquet/\n",
        "\n",
        "🧠 Glue Job Script (Python)\n",
        "\n"
      ],
      "metadata": {
        "id": "mArFF0FwYGoi"
      }
    },
    {
      "cell_type": "code",
      "source": [
        "import sys\n",
        "from awsglue.transforms import *\n",
        "from awsglue.utils import getResolvedOptions\n",
        "from pyspark.context import SparkContext\n",
        "from awsglue.context import GlueContext\n",
        "from awsglue.job import Job\n",
        "\n",
        "args = getResolvedOptions(sys.argv, ['JOB_NAME'])\n",
        "\n",
        "sc = SparkContext()\n",
        "glueContext = GlueContext(sc)\n",
        "spark = glueContext.spark_session\n",
        "\n",
        "job = Job(glueContext)\n",
        "job.init(args['JOB_NAME'], args)\n",
        "\n",
        "# Load from Glue catalog\n",
        "datasource = glueContext.create_dynamic_frame.from_catalog(\n",
        "    database=\"csv_db\",\n",
        "    table_name=\"input_table\",\n",
        "    transformation_ctx=\"datasource\"\n",
        ")\n",
        "\n",
        "# Convert to Parquet\n",
        "output = glueContext.write_dynamic_frame.from_options(\n",
        "    frame=datasource,\n",
        "    connection_type=\"s3\",\n",
        "    connection_options={\"path\": \"s3://your-bucket-name/output-parquet/\"},\n",
        "    format=\"parquet\"\n",
        ")\n",
        "\n",
        "job.commit()\n",
        "\n"
      ],
      "metadata": {
        "id": "43pmPDFgYOgv"
      },
      "execution_count": null,
      "outputs": []
    },
    {
      "cell_type": "markdown",
      "source": [
        "12. Explain the difference between Kinesis Data Streams, Kinesis Firehose, and Kinesis Data Analytics. Provide a real-world example of how each would be used.\n",
        "\n",
        "Ans:-1. Kinesis Data Streams (KDS)\n",
        "Purpose:\n",
        "Kinesis Data Streams is a fully managed service that allows you to stream and process data in real-time. You can create multiple streams to handle large amounts of incoming data. It’s used when you need real-time processing with control over data retention and customized processing.\n",
        "\n",
        "Key Features:\n",
        "\n",
        "Real-time stream processing.\n",
        "\n",
        "Can store data for up to 7 days (default is 24 hours).\n",
        "\n",
        "Custom processing via Lambda, EC2, or Kinesis Client Library (KCL).\n",
        "\n",
        "Scalable: Can ingest large volumes of data per second.\n",
        "\n",
        "Use Case Example:\n",
        "\n",
        "Real-time website analytics: Collecting user activity data (clicks, page views) in real time from millions of visitors to a website and processing it for immediate insights (e.g., displaying active user counts, trending items).\n",
        "\n",
        "2. Kinesis Firehose\n",
        "Purpose:\n",
        "Kinesis Firehose is a fully managed service that automatically loads streaming data into AWS destinations like S3, Redshift, Elasticsearch, and Splunk. It’s designed for scenarios where you want to stream data directly into storage or other services without having to manually handle the processing.\n",
        "\n",
        "Key Features:\n",
        "\n",
        "Real-time data loading to destinations (e.g., S3, Redshift, Elasticsearch).\n",
        "\n",
        "No need for custom processing; just transform (optional) and store.\n",
        "\n",
        "Automatic buffering and batching of data.\n",
        "\n",
        "Supports compression and encryption.\n",
        "\n",
        "Use Case Example:\n",
        "\n",
        "Log aggregation and storage: Continuously ingesting application logs from various systems into S3 or Elasticsearch for future analysis, search, and visualization.\n",
        "\n",
        "3. Kinesis Data Analytics\n",
        "Purpose:\n",
        "Kinesis Data Analytics allows you to perform real-time analytics on data streams using SQL. It processes data from Kinesis Data Streams or Kinesis Firehose and applies analytics directly to the incoming data in real time, such as filtering, aggregating, and transforming data.\n",
        "\n",
        "Key Features:\n",
        "\n",
        "Real-time analytics with SQL.\n",
        "\n",
        "Supports stream processing with SQL queries to perform transformations.\n",
        "\n",
        "Output can be directed to Kinesis Data Streams, Firehose, or other services.\n",
        "\n",
        "Scalable, without needing to provision infrastructure.\n",
        "\n",
        "Use Case Example:\n",
        "\n",
        "Real-time fraud detection: Processing transaction data streams in real-time to detect fraudulent activities based on specific patterns (e.g., sudden spikes in transaction volume, unusual patterns for a user).\n",
        "\n",
        "🧠 Real-World Use Cases\n",
        "Kinesis Data Streams (KDS):\n",
        "\n",
        "Scenario: A real-time bidding system where each ad view or click generates data that needs to be processed instantly. Kinesis Data Streams would capture these events and send them for further processing, such as updating bid prices or sending event triggers.\n",
        "\n",
        "Kinesis Firehose:\n",
        "\n",
        "Scenario: A website log streaming system where all access logs (web server logs) are streamed directly to S3 for long-term storage and later processing. With Firehose, you can easily set up the log delivery to S3 without worrying about managing the streaming process.\n",
        "\n",
        "Kinesis Data Analytics:\n",
        "\n",
        "Scenario: A real-time monitoring system for IoT sensor data from a fleet of vehicles. Kinesis Data Analytics processes data from Kinesis Data Streams to calculate the average speed, fuel usage, or temperature of vehicles in real-time, and outputs the results to a dashboard.\n",
        "\n"
      ],
      "metadata": {
        "id": "LFb3G4_tYXAd"
      }
    },
    {
      "cell_type": "markdown",
      "source": [
        "13. What is columnar storage and how does it benefit Redshift performance for analytics workloads.\n",
        "\n",
        "Ans:-What is Columnar Storage?\n",
        "Columnar storage is a method of storing data where data is stored by columns rather than by rows (which is the traditional method). This approach is widely used in data warehouses and analytics systems because it allows for more efficient data retrieval, especially for queries that aggregate or filter large datasets on specific columns.\n",
        "\n",
        "In a columnar database, each column is stored as a separate file or block, which makes it easier to read only the relevant data (specific columns) for certain types of queries, instead of having to read entire rows.\n",
        "\n",
        "How Columnar Storage Benefits Amazon Redshift for Analytics Workloads\n",
        "Amazon Redshift is a data warehouse service that uses columnar storage to optimize the performance of analytics workloads. Here’s how columnar storage benefits Redshift:\n",
        "\n",
        "1. Efficient Data Compression\n",
        "Why it helps: Columnar storage allows similar data types to be stored together. For example, if a column stores dates or integers, the values will typically be similar, allowing them to be compressed more effectively.\n",
        "\n",
        "Benefit: This reduces the amount of data that needs to be read from disk, improving I/O and reducing storage costs.\n",
        "\n",
        "2. Faster Query Performance (Selective Reads)\n",
        "Why it helps: When running analytical queries, only specific columns are often needed. Columnar storage allows Redshift to only scan and retrieve the required columns, instead of reading entire rows, which speeds up query execution.\n",
        "\n",
        "Benefit: This is especially useful for analytical workloads like SUM, AVG, COUNT, and GROUP BY operations, where the query typically involves only a few columns of a large table.\n",
        "\n",
        "3. Improved Disk I/O\n",
        "Why it helps: Since only relevant columns are accessed during query execution, the overall disk I/O is greatly minimized. This results in faster queries and lower costs associated with reading from disk.\n",
        "\n",
        "Benefit: Redshift can scan vast amounts of data in parallel, making the database more efficient in terms of processing large datasets, even with complex analytical queries.\n",
        "\n",
        "4. Optimized for Analytical Queries\n",
        "Why it helps: Analytical queries often involve operations like aggregations, joins, and filtering, but only on certain columns. With columnar storage, these operations are optimized because Redshift can quickly access the necessary columns and ignore irrelevant data.\n",
        "\n",
        "Benefit: This allows Redshift to efficiently process complex queries over large datasets without the overhead of row-based storage.\n",
        "\n",
        "5. Parallel Processing\n",
        "Why it helps: Redshift uses a Massively Parallel Processing (MPP) architecture, which means queries can be distributed across multiple nodes in a cluster. Columnar storage works very well in this distributed setup because data can be partitioned by columns, and nodes can independently process specific portions of the dataset.\n",
        "\n",
        "Benefit: Faster query execution and scalability, as each node processes a subset of the data in parallel.\n",
        "\n",
        "Example Use Case for Columnar Storage in Redshift\n",
        "Data Warehouse for Sales Analytics: Imagine you have a table with millions of rows of sales data, with columns for product ID, store ID, sales date, quantity sold, price, and revenue. If you want to analyze total revenue by product category and date, Redshift’s columnar storage will only need to access the product ID, sales date, and revenue columns for the aggregation. It won’t need to scan columns like store ID or quantity sold, making the query much faster than if the data were stored row-wise.\n",
        "\n"
      ],
      "metadata": {
        "id": "Be_LrC8CYkBL"
      }
    },
    {
      "cell_type": "markdown",
      "source": [
        "13. What is the role of the AWS Glue Data Catalog in Athena? How does schema-on-read work.\n",
        "\n",
        "Ans:-Role of the AWS Glue Data Catalog in Athena\n",
        "The AWS Glue Data Catalog plays a crucial role in Amazon Athena as it acts as the central metadata repository for the data stored in S3. Athena uses the Data Catalog to define the structure (schema) of the data and to access the data files for query execution.\n",
        "\n",
        "Here’s how the Glue Data Catalog integrates with Athena:\n",
        "\n",
        "Metadata Management:\n",
        "The Glue Data Catalog stores the metadata (such as table definitions, schema, column types, partition information) for the datasets you want to query in Athena. Athena queries rely on this metadata to understand how the data is structured, even though the data itself is stored in raw format (e.g., CSV, JSON, Parquet, etc.) in Amazon S3.\n",
        "\n",
        "Schema Definition:\n",
        "When you run queries in Athena, it references the metadata (tables and columns) from the Glue Data Catalog to interpret and structure the data in your S3 files. You don’t need to predefine the schema in your files—this is managed by Glue.\n",
        "\n",
        "Cross-Service Integration:\n",
        "The Glue Data Catalog can be used not just by Athena but by other AWS services like AWS Glue, Redshift Spectrum, and AWS EMR. This allows seamless access to the same metadata across different services in your analytics workflows.\n",
        "\n",
        "Partition Management:\n",
        "If your data is partitioned (e.g., by date or region), Glue keeps track of the partition information in the catalog, so Athena can efficiently query only the relevant data partitions, reducing query time.\n",
        "\n",
        "How Schema-on-Read Works in Athena\n",
        "Schema-on-read is a concept where you don’t define a schema when data is ingested, but rather when you read or query the data. In traditional databases, schema is defined at the time of data ingestion (schema-on-write), but Athena (and other services like AWS Glue) allow you to define the schema when you read the data.\n",
        "\n",
        "How It Works:\n",
        "Data Ingestion:\n",
        "Data is loaded into Amazon S3 without a pre-defined schema. For example, you might store raw JSON files or CSV files in S3, with no predefined column definitions.\n",
        "\n",
        "Schema Definition at Query Time:\n",
        "When you query this raw data using Amazon Athena, you define the schema (structure) that Athena should use to interpret the data. This is where the Glue Data Catalog comes in. The schema (including column names, data types, partitions, etc.) is defined in the Glue Data Catalog.\n",
        "\n",
        "On-the-Fly Processing:\n",
        "When you run the query in Athena, Athena reads the raw data files from S3, applies the schema defined in the Glue Data Catalog, and processes the data accordingly. The data doesn’t need to be transformed into a predefined format before being queried—Athena applies the schema as part of the query process.\n",
        "\n",
        "Query Execution:\n",
        "Athena reads the data as defined by the schema and returns the results based on the query logic you provide. It doesn’t need to load the entire dataset into memory, only the relevant portions based on the query.\n",
        "\n",
        "Advantages of Schema-on-Read in Athena:\n",
        "Flexibility:\n",
        "You can store raw, unstructured, or semi-structured data (e.g., JSON, Parquet) and define the schema as needed, allowing for great flexibility when dealing with different data formats.\n",
        "\n",
        "No Preprocessing Required:\n",
        "Unlike traditional databases where data needs to be loaded and transformed into a predefined schema, with schema-on-read, you don’t need to transform the data upfront. You can store data as-is and define how it should be interpreted when you query it.\n",
        "\n",
        "Dynamic Schema Changes:\n",
        "Since you define the schema when you query the data, it is easy to modify the schema in the Glue Data Catalog without requiring data migrations or transformations.\n",
        "\n",
        "Optimized for Data Lakes:\n",
        "Athena’s schema-on-read approach is especially useful in data lakes where large volumes of semi-structured data are stored in formats like JSON, CSV, or Parquet in Amazon S3. You don’t need to convert this data into a structured format before querying it."
      ],
      "metadata": {
        "id": "OoOxJH6pY4iI"
      }
    },
    {
      "cell_type": "markdown",
      "source": [],
      "metadata": {
        "id": "k8WdQQY4ZN4L"
      }
    }
  ]
}