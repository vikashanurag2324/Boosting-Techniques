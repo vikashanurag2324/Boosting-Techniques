{
  "nbformat": 4,
  "nbformat_minor": 0,
  "metadata": {
    "colab": {
      "provenance": []
    },
    "kernelspec": {
      "name": "python3",
      "display_name": "Python 3"
    },
    "language_info": {
      "name": "python"
    }
  },
  "cells": [
    {
      "cell_type": "markdown",
      "source": [
        "Problem Statement   Cryptocurrency markets are highly volatile, and liquidity plays a crucial role in market stability. Liquidity refers to the ease with which assets can be bought or sold without significantly impacting the price. A lack of liquidity can lead to increased price fluctuations and market instabil\n",
        "\n",
        "Ans:1. Data Collection\n",
        "Since I can't download directly from your Google Drive here, I will assume you will download the dataset manually.\n",
        "\n",
        "Suppose you have downloaded it — say a file like crypto_data.csv.\n",
        "\n",
        "In Python:"
      ],
      "metadata": {
        "id": "-FSUfKPdZ1ly"
      }
    },
    {
      "cell_type": "code",
      "source": [
        "import pandas as pd\n",
        "\n",
        "# Load the dataset\n",
        "df = pd.read_csv('crypto_data.csv')\n",
        "print(df.head())\n"
      ],
      "metadata": {
        "id": "ao8iOKWba6OS"
      },
      "execution_count": null,
      "outputs": []
    },
    {
      "cell_type": "markdown",
      "source": [
        ". Data Preprocessing\n",
        "Handling missing values:"
      ],
      "metadata": {
        "id": "rc58smA2a7Zq"
      }
    },
    {
      "cell_type": "code",
      "source": [
        "# Check missing values\n",
        "print(df.isnull().sum())\n",
        "\n",
        "# Fill missing values with forward fill or interpolation\n",
        "df.fillna(method='ffill', inplace=True)\n"
      ],
      "metadata": {
        "id": "G-FQPWwKbApK"
      },
      "execution_count": null,
      "outputs": []
    },
    {
      "cell_type": "markdown",
      "source": [
        "Normalizing/Scaling numerical columns (volume, price, etc.):"
      ],
      "metadata": {
        "id": "xFlGOVXrbFWA"
      }
    },
    {
      "cell_type": "code",
      "source": [
        "from sklearn.preprocessing import MinMaxScaler\n",
        "\n",
        "scaler = MinMaxScaler()\n",
        "scaled_features = scaler.fit_transform(df[['open', 'high', 'low', 'close', 'volume']])\n",
        "scaled_df = pd.DataFrame(scaled_features, columns=['open', 'high', 'low', 'close', 'volume'])\n"
      ],
      "metadata": {
        "id": "iZ7Kng08bF5i"
      },
      "execution_count": null,
      "outputs": []
    },
    {
      "cell_type": "markdown",
      "source": [
        " Exploratory Data Analysis (EDA)\n",
        "Summary statistics:"
      ],
      "metadata": {
        "id": "omlZBGb3bHlg"
      }
    },
    {
      "cell_type": "code",
      "source": [
        "print(df.describe())\n"
      ],
      "metadata": {
        "id": "H77XuLKabKLC"
      },
      "execution_count": null,
      "outputs": []
    },
    {
      "cell_type": "markdown",
      "source": [
        "Visualizations:"
      ],
      "metadata": {
        "id": "TzjoZLbvbMBF"
      }
    },
    {
      "cell_type": "code",
      "source": [
        "import matplotlib.pyplot as plt\n",
        "import seaborn as sns\n",
        "\n",
        "# Line plot of closing price\n",
        "plt.figure(figsize=(10,5))\n",
        "plt.plot(df['date'], df['close'])\n",
        "plt.title('Closing Price Over Time')\n",
        "plt.show()\n",
        "\n",
        "# Heatmap\n",
        "plt.figure(figsize=(10,8))\n",
        "sns.heatmap(df.corr(), annot=True)\n",
        "plt.show()\n"
      ],
      "metadata": {
        "id": "XyHtvQb8bO5y"
      },
      "execution_count": null,
      "outputs": []
    },
    {
      "cell_type": "markdown",
      "source": [
        " Feature Engineering\n",
        "Create new features important for liquidity prediction:\n",
        "\n",
        "Moving Averages:"
      ],
      "metadata": {
        "id": "unAPTFP5bQr1"
      }
    },
    {
      "cell_type": "code",
      "source": [
        "df['volume_ma7'] = df['volume'].rolling(window=7).mean()\n",
        "df['volume_ma30'] = df['volume'].rolling(window=30).mean()\n"
      ],
      "metadata": {
        "id": "wO9f5u62bS7T"
      },
      "execution_count": null,
      "outputs": []
    },
    {
      "cell_type": "markdown",
      "source": [
        "Volatility:\n",
        "\n",
        "python\n",
        "Copy\n",
        "Edit\n"
      ],
      "metadata": {
        "id": "_SELpKw0bWR0"
      }
    },
    {
      "cell_type": "code",
      "source": [
        "df['price_volatility'] = df['close'].rolling(window=7).std()\n"
      ],
      "metadata": {
        "id": "8lx8W9iobXBU"
      },
      "execution_count": null,
      "outputs": []
    },
    {
      "cell_type": "markdown",
      "source": [
        "Liquidity Ratio (example: volume divided by close price):"
      ],
      "metadata": {
        "id": "MttMc8HJbYwr"
      }
    },
    {
      "cell_type": "code",
      "source": [
        "df['liquidity_ratio'] = df['volume'] / df['close']\n"
      ],
      "metadata": {
        "id": "AD-FNq35baxQ"
      },
      "execution_count": null,
      "outputs": []
    },
    {
      "cell_type": "markdown",
      "source": [
        "5. Model Selection\n",
        "Since you are predicting a continuous value (liquidity levels), this is a regression task.\n",
        "\n",
        "Recommended models:\n",
        "\n",
        "Random Forest Regressor\n",
        "\n",
        "XGBoost Regressor\n",
        "\n",
        "Example:"
      ],
      "metadata": {
        "id": "cJhZZe8CbcdO"
      }
    },
    {
      "cell_type": "code",
      "source": [
        "from sklearn.model_selection import train_test_split\n",
        "from sklearn.ensemble import RandomForestRegressor\n",
        "from sklearn.metrics import mean_squared_error, mean_absolute_error, r2_score\n",
        "\n",
        "# Define features and target\n",
        "features = ['open', 'high', 'low', 'close', 'volume', 'volume_ma7', 'volume_ma30', 'price_volatility', 'liquidity_ratio']\n",
        "target = 'liquidity_ratio'  # or any defined liquidity target you choose\n",
        "\n",
        "X = df[features]\n",
        "y = df[target]\n",
        "\n",
        "# Split the dataset\n",
        "X_train, X_test, y_train, y_test = train_test_split(X, y, test_size=0.2, random_state=42)\n",
        "\n",
        "# Train the model\n",
        "model = RandomForestRegressor()\n",
        "model.fit(X_train, y_train)\n",
        "\n",
        "# Predict\n",
        "y_pred = model.predict(X_test)\n",
        "\n",
        "# Evaluate\n",
        "print(\"RMSE:\", mean_squared_error(y_test, y_pred, squared=False))\n",
        "print(\"MAE:\", mean_absolute_error(y_test, y_pred))\n",
        "print(\"R² Score:\", r2_score(y_test, y_pred))\n"
      ],
      "metadata": {
        "id": "rEmb9TN1bfPO"
      },
      "execution_count": null,
      "outputs": []
    },
    {
      "cell_type": "markdown",
      "source": [
        "6. Hyperparameter Tuning (Optional for better results)\n",
        "Use GridSearchCV or RandomizedSearchCV for tuning.\n",
        "\n"
      ],
      "metadata": {
        "id": "5jcSx4bgbkOI"
      }
    },
    {
      "cell_type": "markdown",
      "source": [
        "7. Model Testing & Validation\n",
        "Check how well the model predicts unseen data.\n",
        "\n",
        "Plot actual vs. predicted:"
      ],
      "metadata": {
        "id": "pmVKGslGblKu"
      }
    },
    {
      "cell_type": "code",
      "source": [
        "plt.figure(figsize=(10,5))\n",
        "plt.plot(y_test.values, label='Actual')\n",
        "plt.plot(y_pred, label='Predicted')\n",
        "plt.legend()\n",
        "plt.title('Actual vs Predicted Liquidity Levels')\n",
        "plt.show()\n"
      ],
      "metadata": {
        "id": "Ww8FFNxSbnDF"
      },
      "execution_count": null,
      "outputs": []
    },
    {
      "cell_type": "markdown",
      "source": [
        "8. Deployment (Optional)\n",
        "You can deploy this model using Flask or Streamlit.\n",
        "\n",
        "Simple Streamlit code:"
      ],
      "metadata": {
        "id": "MHgvz6sXbop9"
      }
    },
    {
      "cell_type": "code",
      "source": [
        "import streamlit as st\n",
        "import pickle\n",
        "\n",
        "model = pickle.load(open('model.pkl', 'rb'))\n",
        "\n",
        "st.title('Cryptocurrency Liquidity Predictor')\n",
        "\n",
        "open_price = st.number_input('Open Price')\n",
        "high_price = st.number_input('High Price')\n",
        "low_price = st.number_input('Low Price')\n",
        "close_price = st.number_input('Close Price')\n",
        "volume = st.number_input('Volume')\n",
        "\n",
        "if st.button('Predict Liquidity'):\n",
        "    input_data = [[open_price, high_price, low_price, close_price, volume]]\n",
        "    prediction = model.predict(input_data)\n",
        "    st.success(f'Predicted Liquidity Level: {prediction[0]:.4f}')\n"
      ],
      "metadata": {
        "id": "NqP3Gz0_bukI"
      },
      "execution_count": null,
      "outputs": []
    }
  ]
}